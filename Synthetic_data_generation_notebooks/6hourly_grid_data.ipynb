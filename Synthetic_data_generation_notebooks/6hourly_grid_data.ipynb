{
 "cells": [
  {
   "cell_type": "code",
   "execution_count": 21,
   "id": "23335526",
   "metadata": {},
   "outputs": [],
   "source": [
    "import pandas as pd\n",
    "import numpy as np\n",
    "from datetime import datetime, timedelta\n",
    "import math"
   ]
  },
  {
   "cell_type": "code",
   "execution_count": 26,
   "id": "b64513d5",
   "metadata": {},
   "outputs": [],
   "source": [
    "# Set random seed for reproducibility\n",
    "np.random.seed(42)\n",
    "\n",
    "# Parameters\n",
    "start_date = datetime(2010, 1, 1)\n",
    "end_date = datetime(2025, 5, 31, 18, 0)\n",
    "hours = int((end_date - start_date).total_seconds() / (6 * 3600)) + 1  # ~21,552 rows\n",
    "collapse_counts = {\n",
    "    2010: 42, 2011: 19, 2012: 24, 2013: 24, 2014: 13, 2015: 10,\n",
    "    2016: 28, 2017: 24, 2018: 13, 2019: 10, 2020: 4, 2021: 4,\n",
    "    2022: 12, 2023: 12, 2024: 4, 2025: 3\n",
    "}\n",
    "total_collapses = sum(collapse_counts.values())  # 246 collapses"
   ]
  },
  {
   "cell_type": "code",
   "execution_count": 27,
   "id": "2d302cce",
   "metadata": {},
   "outputs": [
    {
     "data": {
      "text/plain": [
       "246"
      ]
     },
     "execution_count": 27,
     "metadata": {},
     "output_type": "execute_result"
    }
   ],
   "source": [
    "total_collapses"
   ]
  },
  {
   "cell_type": "code",
   "execution_count": 28,
   "id": "5404f0ae",
   "metadata": {},
   "outputs": [],
   "source": [
    "# Generate timestamps (6-hourly)\n",
    "timestamps = [start_date + timedelta(hours=6 * i) for i in range(hours)]\n",
    "df = pd.DataFrame({'Timestamp': timestamps})\n",
    "\n",
    "# Generate independent parameters\n",
    "df['Voltage (V)'] = np.random.normal(330000, 5000, hours)  # 330kV ±5kV\n",
    "df['Power Factor'] = np.random.uniform(0.8, 0.95, hours)  # 0.8–0.95\n",
    "df['Grid Supply (kW)'] = np.random.normal(4000000, 400000, hours)  # ~4,000 MW\n",
    "df['Grid Frequency (Hz)'] = np.random.normal(50, 0.2, hours)  # 50 Hz ±0.2\n",
    "df['Generation Capacity (MW)'] = np.random.normal(4000, 500, hours)  # ~4,000 MW\n",
    "\n",
    "# Derive Power Consumption (kW): Grid Supply ± deviation\n",
    "df['Power Consumption (kW)'] = df['Grid Supply (kW)'] * np.random.normal(1.05, 0.1, hours)\n",
    "\n",
    "# Derive Current (A): I = P / (V * PF * sqrt(3))\n",
    "df['Current (A)'] = (df['Power Consumption (kW)'] * 1000) / (df['Voltage (V)'] * df['Power Factor'] * np.sqrt(3))\n",
    "\n",
    "# Derive Reactive Power (kVAR): Q = P * tan(acos(PF))\n",
    "df['Reactive Power (kVAR)'] = df['Power Consumption (kW)'] * np.tan(np.arccos(df['Power Factor']))\n",
    "\n",
    "# Weather: Wet (Apr–Oct: 28°C, 70%), Dry (Nov–Mar: 32°C, 35%)\n",
    "df['Temperature (°C)'] = [np.random.normal(28, 3) if 4 <= t.month <= 10 else np.random.normal(32, 3) for t in df['Timestamp']]\n",
    "df['Humidity (%)'] = [np.random.normal(70, 10) if 4 <= t.month <= 10 else np.random.normal(35, 10) for t in df['Timestamp']]\n",
    "\n",
    "# Faults and events\n",
    "df['Transformer Fault'] = np.random.choice([0, 1], hours, p=[0.98, 0.02])\n",
    "df['Line Trip Events'] = np.random.choice([0, 1], hours, p=[0.95, 0.05])\n",
    "df['Overload Condition'] = (df['Power Consumption (kW)'] > df['Grid Supply (kW)'] * 1.1).astype(int)"
   ]
  },
  {
   "cell_type": "code",
   "execution_count": 30,
   "id": "c74ceb22",
   "metadata": {},
   "outputs": [],
   "source": [
    "# Specific collapse dates\n",
    "specific_collapses = [\n",
    "    datetime(2024, 12, 11, 6 * np.random.randint(0, 4)),  # Omotosho-Ikeja West line trip, vandalism\n",
    "    datetime(2025, 1, 11, 6 * np.random.randint(0, 4)),   # Line tripping\n",
    "    datetime(2025, 2, 12, 6 * np.random.randint(0, 4)),   # Line tripping\n",
    "    datetime(2025, 3, 7, 6 * np.random.randint(0, 4))     # Assumed line tripping\n",
    "]\n",
    "collapse_indices = set()\n",
    "for collapse_date in specific_collapses:\n",
    "    closest_idx = df.index[df['Timestamp'] == df['Timestamp'].iloc[(df['Timestamp'] - collapse_date).abs().argmin()]].tolist()\n",
    "    if closest_idx:\n",
    "        collapse_indices.add(closest_idx[0])\n",
    "\n",
    "# Distribute remaining collapses by year\n",
    "for year, count in collapse_counts.items():\n",
    "    year_indices = set(df[df['Timestamp'].dt.year == year].index)\n",
    "    year_specific_collapses = sum(1 for idx in collapse_indices if df.loc[idx, 'Timestamp'].year == year)\n",
    "    year_remaining = count - year_specific_collapses\n",
    "    if year_remaining > 0:\n",
    "        available_indices = list(year_indices - collapse_indices)\n",
    "        if len(available_indices) >= year_remaining:\n",
    "            selected = np.random.choice(available_indices, size=year_remaining, replace=False)\n",
    "            collapse_indices.update(selected)\n",
    "\n",
    "# Ensure exactly 246 collapses\n",
    "collapse_indices = list(collapse_indices)\n",
    "if len(collapse_indices) < total_collapses:\n",
    "    available_indices = [i for i in df.index if i not in collapse_indices]\n",
    "    extra_indices = np.random.choice(available_indices, size=total_collapses - len(collapse_indices), replace=False)\n",
    "    collapse_indices.extend(extra_indices)\n",
    "elif len(collapse_indices) > total_collapses:\n",
    "    collapse_indices = collapse_indices[:total_collapses]"
   ]
  },
  {
   "cell_type": "code",
   "execution_count": 31,
   "id": "123ee9d9",
   "metadata": {},
   "outputs": [],
   "source": [
    "df['Grid Collapse Events'] = 0\n",
    "df.loc[collapse_indices, 'Grid Collapse Events'] = 1\n",
    "\n",
    "# Add anomalies for collapse events\n",
    "for idx in collapse_indices:\n",
    "    df.loc[idx, 'Voltage (V)'] *= np.random.uniform(0.85, 0.95)  # Voltage drop\n",
    "    df.loc[idx, 'Grid Frequency (Hz)'] += np.random.uniform(-0.5, 0.5)  # Frequency deviation\n",
    "    df.loc[idx, 'Power Consumption (kW)'] *= np.random.uniform(1.1, 1.3)  # Increase demand\n",
    "    df.loc[idx, 'Overload Condition'] = 1 if df.loc[idx, 'Power Consumption (kW)'] > df.loc[idx, 'Grid Supply (kW)'] * 1.1 else df.loc[idx, 'Overload Condition']\n",
    "    df.loc[idx, 'Transformer Fault'] = 1 if np.random.rand() > 0.5 else df.loc[idx, 'Transformer Fault']\n",
    "    df.loc[idx, 'Line Trip Events'] = 1 if np.random.rand() > 0.4 else df.loc[idx, 'Line Trip Events']\n",
    "    # Recalculate derived parameters\n",
    "    df.loc[idx, 'Current (A)'] = (df.loc[idx, 'Power Consumption (kW)'] * 1000) / (df.loc[idx, 'Voltage (V)'] * df.loc[idx, 'Power Factor'] * np.sqrt(3))\n",
    "    df.loc[idx, 'Reactive Power (kVAR)'] = df.loc[idx, 'Power Consumption (kW)'] * np.tan(np.arccos(df.loc[idx, 'Power Factor']))"
   ]
  },
  {
   "cell_type": "code",
   "execution_count": 32,
   "id": "5b353ca3",
   "metadata": {},
   "outputs": [],
   "source": [
    "# Round numerical columns\n",
    "df['Voltage (V)'] = df['Voltage (V)'].round(2)\n",
    "df['Current (A)'] = df['Current (A)'].round(2)\n",
    "df['Power Consumption (kW)'] = df['Power Consumption (kW)'].round(2)\n",
    "df['Reactive Power (kVAR)'] = df['Reactive Power (kVAR)'].round(2)\n",
    "df['Power Factor'] = df['Power Factor'].round(3)\n",
    "df['Grid Supply (kW)'] = df['Grid Supply (kW)'].round(2)\n",
    "df['Grid Frequency (Hz)'] = df['Grid Frequency (Hz)'].round(2)\n",
    "df['Generation Capacity (MW)'] = df['Generation Capacity (MW)'].round(2)\n",
    "df['Temperature (°C)'] = df['Temperature (°C)'].round(1)\n",
    "df['Humidity (%)'] = df['Humidity (%)'].round(1)"
   ]
  },
  {
   "cell_type": "code",
   "execution_count": 36,
   "id": "c022c52a",
   "metadata": {},
   "outputs": [
    {
     "data": {
      "text/plain": [
       "0    22274\n",
       "1      246\n",
       "Name: Grid Collapse Events, dtype: int64"
      ]
     },
     "execution_count": 36,
     "metadata": {},
     "output_type": "execute_result"
    }
   ],
   "source": [
    "df['Grid Collapse Events'].value_counts()"
   ]
  },
  {
   "cell_type": "code",
   "execution_count": null,
   "id": "13b719ef",
   "metadata": {},
   "outputs": [],
   "source": [
    "# Save to CSV\n",
    "df.to_csv('synthetic_nigeria_grid_data_2010_may2025_6hourly_derived.csv', index=False)\n",
    "\n",
    "print(f\"Generated synthetic dataset with {len(df)} rows and {df['Grid Collapse Events'].sum()} collapse events, saved to 'synthetic_nigeria_grid_data_2010_may2025_6hourly_derived.csv'.\")"
   ]
  },
  {
   "cell_type": "code",
   "execution_count": null,
   "id": "7630d885",
   "metadata": {},
   "outputs": [],
   "source": []
  }
 ],
 "metadata": {
  "kernelspec": {
   "display_name": "Python 3 (ipykernel)",
   "language": "python",
   "name": "python3"
  },
  "language_info": {
   "codemirror_mode": {
    "name": "ipython",
    "version": 3
   },
   "file_extension": ".py",
   "mimetype": "text/x-python",
   "name": "python",
   "nbconvert_exporter": "python",
   "pygments_lexer": "ipython3",
   "version": "3.9.13"
  }
 },
 "nbformat": 4,
 "nbformat_minor": 5
}
